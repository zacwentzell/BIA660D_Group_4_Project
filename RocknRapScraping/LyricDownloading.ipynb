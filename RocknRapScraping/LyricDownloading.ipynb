{
 "cells": [
  {
   "cell_type": "code",
   "execution_count": 1,
   "metadata": {
    "collapsed": true
   },
   "outputs": [],
   "source": [
    "import requests\n",
    "from bs4 import BeautifulSoup\n"
   ]
  },
  {
   "cell_type": "code",
   "execution_count": null,
   "metadata": {
    "collapsed": true
   },
   "outputs": [],
   "source": [
    "base_url = \"http://api.genius.com\"\n",
    "headers = {'Authorization': 'k1_7skwp7VoTLBW8A7yJYx0ypzpzauWZ-TxeKXvhV0CgT6X58pFZD2JLjwxiMxX7'}\n",
    "\n",
    "song_title = \"Lake Song\"\n",
    "artist_name = \"The Decemberists\"\n",
    "\n",
    "def lyrics_from_song_api_path(song_api_path):\n",
    "    song_url = base_url + song_api_path\n",
    "    response = requests.get(song_url, headers=headers)\n",
    "    json = response.json()\n",
    "    path = json[\"response\"][\"song\"][\"path\"]\n",
    "  #gotta go regular html scraping... come on Genius\n",
    "    page_url = \"http://genius.com\" + path\n",
    "    page = requests.get(page_url)\n",
    "    html = BeautifulSoup(page.text, \"html.parser\")\n",
    "  #remove script tags that they put in the middle of the lyrics\n",
    "    [h.extract() for h in html('script')]\n",
    "  #at least Genius is nice and has a tag called 'lyrics'!\n",
    "    lyrics = html.find(“div”, class_=”lyrics”).get_text() #updated css where the lyrics are based in HTML\n",
    "    return lyrics\n",
    "\n",
    "if __name__ == \"__main__\":\n",
    "    search_url = base_url + \"/search\"\n",
    "    data = {'q': song_title}\n",
    "    response = requests.get(search_url, data=data, headers=headers)\n",
    "    json = response.json()\n",
    "    song_info = None\n",
    "    for hit in json[\"response\"][\"hits\"]:\n",
    "        if hit[\"result\"][\"primary_artist\"][\"name\"] == artist_name:\n",
    "            song_info = hit\n",
    "            break\n",
    "    if song_info:\n",
    "        song_api_path = song_info[\"result\"][\"api_path\"]\n",
    "        print lyrics_from_song_api_path(song_api_path)"
   ]
  }
 ],
 "metadata": {
  "kernelspec": {
   "display_name": "Python 3",
   "language": "python",
   "name": "python3"
  },
  "language_info": {
   "codemirror_mode": {
    "name": "ipython",
    "version": 3
   },
   "file_extension": ".py",
   "mimetype": "text/x-python",
   "name": "python",
   "nbconvert_exporter": "python",
   "pygments_lexer": "ipython3",
   "version": "3.6.3"
  }
 },
 "nbformat": 4,
 "nbformat_minor": 2
}
