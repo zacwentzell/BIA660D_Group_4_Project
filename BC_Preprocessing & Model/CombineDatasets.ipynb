{
 "cells": [
  {
   "cell_type": "markdown",
   "metadata": {},
   "source": [
    "## Import Statements\n"
   ]
  },
  {
   "cell_type": "code",
   "execution_count": 140,
   "metadata": {
    "collapsed": true
   },
   "outputs": [],
   "source": [
    "import pandas as pd\n",
    "import numpy as np"
   ]
  },
  {
   "cell_type": "code",
   "execution_count": 141,
   "metadata": {
    "collapsed": true
   },
   "outputs": [],
   "source": [
    "#opens each dataset RAP - ROCK - POP- COUNTRY\n",
    "#adds genre line for each song\n",
    "#takes first 300 songs with lyrics present and adds to one dataframe\n",
    "#outputs dataframe to single .csv dataset"
   ]
  },
  {
   "cell_type": "markdown",
   "metadata": {
    "collapsed": true
   },
   "source": [
    "### Load Rap"
   ]
  },
  {
   "cell_type": "code",
   "execution_count": 142,
   "metadata": {},
   "outputs": [],
   "source": [
    "rapDf = pd.read_csv(\"rapLyrics.csv\", encoding = 'latin1')"
   ]
  },
  {
   "cell_type": "code",
   "execution_count": 143,
   "metadata": {
    "collapsed": true
   },
   "outputs": [],
   "source": [
    "rapDf1 = rapDf[[\"Artist\", \"Lyrics\", \"Song\"]]\n",
    "rapDf1 = rapDf1.dropna()"
   ]
  },
  {
   "cell_type": "code",
   "execution_count": 144,
   "metadata": {},
   "outputs": [],
   "source": [
    "rapDf1 = rapDf1[rapDf1[\"Lyrics\"] != '[]']\n",
    "rapDf1 = rapDf1[rapDf1[\"Song\"] != 'X']\n",
    "rapDf1 = rapDf1[rapDf1[\"Song\"] != 'Chill Bill']\n",
    "rapDf1 = rapDf1[rapDf1[\"Song\"] != \"Bumpin' Uglies\"]\n",
    "rapDf1 = rapDf1[rapDf1[\"Song\"] != 'Bad Things']\n",
    "rapDf1 = rapDf1[rapDf1[\"Song\"] != 'NAStradamus']\n",
    "rapDf1 = rapDf1[rapDf1[\"Song\"] != 'No Favors']"
   ]
  },
  {
   "cell_type": "code",
   "execution_count": 145,
   "metadata": {
    "collapsed": true
   },
   "outputs": [],
   "source": [
    "rapDf1[\"Lyrics\"] = [str(x) for x in rapDf1['Lyrics'].values]"
   ]
  },
  {
   "cell_type": "code",
   "execution_count": 146,
   "metadata": {
    "collapsed": true
   },
   "outputs": [],
   "source": [
    "def cleanLyrics(df):\n",
    "    df[\"Lyrics\"] = [x.replace(\"[\", \"\") for x in df['Lyrics'].values]\n",
    "    df[\"Lyrics\"] = [x.replace(\"]\", \"\") for x in df['Lyrics'].values]\n",
    "    df[\"Lyrics\"] = [x.replace(\"'\", \"\") for x in df['Lyrics'].values]\n",
    "    df[\"Lyrics\"] = [x.replace(\"'\", \"\") for x in df['Lyrics'].values]\n",
    "    df[\"Lyrics\"] = [x.replace(\"\\n\", \" \") for x in df['Lyrics'].values]\n",
    "    df[\"Lyrics\"] = [x.replace(\"\\\\n\", \" \") for x in df['Lyrics'].values]\n",
    "    df[\"Lyrics\"] = [x.replace('\"', \"\") for x in df['Lyrics'].values]\n",
    "    df[\"Lyrics\"] = [x.replace(\"?\", \"\") for x in df['Lyrics'].values]\n",
    "    df[\"Lyrics\"] = [x.replace(\",\", \"\") for x in df['Lyrics'].values]\n",
    "    df[\"Lyrics\"] = [x.replace(\":\", \"\") for x in df['Lyrics'].values]\n",
    "    df[\"Lyrics\"] = [x.replace(\"(\", \"\") for x in df['Lyrics'].values]\n",
    "    df[\"Lyrics\"] = [x.replace(\")\", \"\") for x in df['Lyrics'].values]\n",
    "    df[\"Lyrics\"] = [x.replace(\"Hook\", \"\") for x in df['Lyrics'].values]\n",
    "    df[\"Lyrics\"] = [x.replace(\"Intro\", \"\") for x in df['Lyrics'].values]\n",
    "    df[\"Lyrics\"] = [x.replace(\"Verse 1\", \"\") for x in df['Lyrics'].values]\n",
    "    df[\"Lyrics\"] = [x.replace(\"Verse 2\", \"\") for x in df['Lyrics'].values]\n",
    "    df[\"Lyrics\"] = [x.replace(\"Verse 3\", \"\") for x in df['Lyrics'].values]\n",
    "    df[\"Lyrics\"] = [x.replace(\"Chorus\", \"\") for x in df['Lyrics'].values]\n",
    "\n",
    "\n",
    "\n",
    "\n",
    "\n"
   ]
  },
  {
   "cell_type": "code",
   "execution_count": 147,
   "metadata": {},
   "outputs": [],
   "source": [
    "cleanLyrics(rapDf1)"
   ]
  },
  {
   "cell_type": "code",
   "execution_count": 79,
   "metadata": {
    "collapsed": true
   },
   "outputs": [],
   "source": [
    "rapDf1[\"Genre\"] = 'Rap'"
   ]
  },
  {
   "cell_type": "code",
   "execution_count": 80,
   "metadata": {},
   "outputs": [],
   "source": [
    "data = rapDf1.head(300)\n",
    "\n",
    "#300 Songs added to data. Need to add other genres together"
   ]
  },
  {
   "cell_type": "code",
   "execution_count": 159,
   "metadata": {
    "collapsed": true
   },
   "outputs": [],
   "source": [
    "#Load Rock\n",
    "rockDf = pd.read_csv('rockLyrics.csv', encoding = 'latin1')\n",
    "rockDf[\"Lyrics\"] = [str(x) for x in rockDf['Lyrics'].values]"
   ]
  },
  {
   "cell_type": "code",
   "execution_count": null,
   "metadata": {},
   "outputs": [],
   "source": []
  },
  {
   "cell_type": "code",
   "execution_count": 160,
   "metadata": {},
   "outputs": [],
   "source": [
    "rockDf = rockDf[['Artist', 'Lyrics', 'Song']]\n",
    "rockDf = rockDf[rockDf[\"Lyrics\"] != '[]']\n",
    "rockDf = rockDf.dropna()\n",
    "cleanLyrics(rockDf)\n"
   ]
  },
  {
   "cell_type": "code",
   "execution_count": 165,
   "metadata": {},
   "outputs": [],
   "source": [
    "rockDf['Genre'] = 'Rock'\n",
    "rapDf1['Genre'] = 'Rap'"
   ]
  },
  {
   "cell_type": "code",
   "execution_count": 166,
   "metadata": {
    "collapsed": true
   },
   "outputs": [],
   "source": [
    "newDf = rapDf1.append(rockDf)"
   ]
  },
  {
   "cell_type": "code",
   "execution_count": 169,
   "metadata": {},
   "outputs": [
    {
     "data": {
      "text/html": [
       "<div>\n",
       "<style>\n",
       "    .dataframe thead tr:only-child th {\n",
       "        text-align: right;\n",
       "    }\n",
       "\n",
       "    .dataframe thead th {\n",
       "        text-align: left;\n",
       "    }\n",
       "\n",
       "    .dataframe tbody tr th {\n",
       "        vertical-align: top;\n",
       "    }\n",
       "</style>\n",
       "<table border=\"1\" class=\"dataframe\">\n",
       "  <thead>\n",
       "    <tr style=\"text-align: right;\">\n",
       "      <th></th>\n",
       "      <th>Artist</th>\n",
       "      <th>Lyrics</th>\n",
       "      <th>Song</th>\n",
       "    </tr>\n",
       "    <tr>\n",
       "      <th>Genre</th>\n",
       "      <th></th>\n",
       "      <th></th>\n",
       "      <th></th>\n",
       "    </tr>\n",
       "  </thead>\n",
       "  <tbody>\n",
       "    <tr>\n",
       "      <th>Rap</th>\n",
       "      <td>1069</td>\n",
       "      <td>1069</td>\n",
       "      <td>1069</td>\n",
       "    </tr>\n",
       "    <tr>\n",
       "      <th>Rock</th>\n",
       "      <td>1112</td>\n",
       "      <td>1112</td>\n",
       "      <td>1112</td>\n",
       "    </tr>\n",
       "  </tbody>\n",
       "</table>\n",
       "</div>"
      ],
      "text/plain": [
       "       Artist  Lyrics  Song\n",
       "Genre                      \n",
       "Rap      1069    1069  1069\n",
       "Rock     1112    1112  1112"
      ]
     },
     "execution_count": 169,
     "metadata": {},
     "output_type": "execute_result"
    }
   ],
   "source": []
  },
  {
   "cell_type": "code",
   "execution_count": 200,
   "metadata": {
    "collapsed": true
   },
   "outputs": [],
   "source": [
    "#load country\n",
    "countryDf = pd.read_csv(\"lyrics_country_299.csv\")\n",
    "popDf = pd.read_csv(\"lyrics_pop_300.csv\")"
   ]
  },
  {
   "cell_type": "code",
   "execution_count": 201,
   "metadata": {},
   "outputs": [],
   "source": [
    "def isEnglish(s):\n",
    "    try:\n",
    "        s.encode(encoding='utf-8').decode('ascii')\n",
    "    except UnicodeDecodeError:\n",
    "        return False\n",
    "    else:\n",
    "        return True\n",
    "    \n",
    "\n",
    "    \n"
   ]
  },
  {
   "cell_type": "code",
   "execution_count": 202,
   "metadata": {},
   "outputs": [],
   "source": [
    "countryDf['isEnglish'] = countryDf['Lyrics'].apply(isEnglish)"
   ]
  },
  {
   "cell_type": "code",
   "execution_count": 203,
   "metadata": {},
   "outputs": [],
   "source": [
    "countryDf = countryDf[(countryDf['isEnglish'] == True) & (countryDf['Lyrics'] != 'no lyrics')]"
   ]
  },
  {
   "cell_type": "code",
   "execution_count": 204,
   "metadata": {},
   "outputs": [],
   "source": [
    "popDf['isEnglish'] = popDf['Lyrics'].apply(isEnglish)"
   ]
  },
  {
   "cell_type": "code",
   "execution_count": 205,
   "metadata": {
    "collapsed": true
   },
   "outputs": [],
   "source": [
    "popDf = popDf[(popDf['isEnglish'] == True) & (popDf['Lyrics'] != 'no lyrics')]"
   ]
  },
  {
   "cell_type": "code",
   "execution_count": 207,
   "metadata": {},
   "outputs": [],
   "source": [
    "countryDf[\"Lyrics\"] = [str(x) for x in countryDf['Lyrics'].values]"
   ]
  },
  {
   "cell_type": "code",
   "execution_count": 208,
   "metadata": {
    "collapsed": true
   },
   "outputs": [],
   "source": [
    "popDf[\"Lyrics\"] = [str(x) for x in popDf['Lyrics'].values]"
   ]
  },
  {
   "cell_type": "code",
   "execution_count": 210,
   "metadata": {},
   "outputs": [],
   "source": [
    "cleanLyrics(countryDf)\n"
   ]
  },
  {
   "cell_type": "code",
   "execution_count": 211,
   "metadata": {
    "collapsed": true
   },
   "outputs": [],
   "source": [
    "cleanLyrics(popDf)"
   ]
  },
  {
   "cell_type": "code",
   "execution_count": 213,
   "metadata": {},
   "outputs": [],
   "source": [
    "popDf = popDf[popDf.columns.drop('Unnamed: 0')]\n"
   ]
  },
  {
   "cell_type": "code",
   "execution_count": 215,
   "metadata": {},
   "outputs": [],
   "source": [
    "countryDf = countryDf[countryDf.columns.drop('Unnamed: 0')]"
   ]
  },
  {
   "cell_type": "code",
   "execution_count": 216,
   "metadata": {
    "collapsed": true
   },
   "outputs": [],
   "source": [
    "newDf = newDf.append(popDf)"
   ]
  },
  {
   "cell_type": "code",
   "execution_count": 217,
   "metadata": {
    "collapsed": true
   },
   "outputs": [],
   "source": [
    "newDf = newDf.append(countryDf)"
   ]
  },
  {
   "cell_type": "code",
   "execution_count": 218,
   "metadata": {},
   "outputs": [
    {
     "data": {
      "text/plain": [
       "2618"
      ]
     },
     "execution_count": 218,
     "metadata": {},
     "output_type": "execute_result"
    }
   ],
   "source": [
    "len(newDf)"
   ]
  },
  {
   "cell_type": "code",
   "execution_count": 221,
   "metadata": {},
   "outputs": [],
   "source": [
    "newDf.to_csv('lyricData.csv', index=False)"
   ]
  },
  {
   "cell_type": "code",
   "execution_count": null,
   "metadata": {
    "collapsed": true
   },
   "outputs": [],
   "source": []
  }
 ],
 "metadata": {
  "kernelspec": {
   "display_name": "Python 3",
   "language": "python",
   "name": "python3"
  },
  "language_info": {
   "codemirror_mode": {
    "name": "ipython",
    "version": 3
   },
   "file_extension": ".py",
   "mimetype": "text/x-python",
   "name": "python",
   "nbconvert_exporter": "python",
   "pygments_lexer": "ipython3",
   "version": "3.6.3"
  }
 },
 "nbformat": 4,
 "nbformat_minor": 2
}
