{
 "cells": [
  {
   "cell_type": "code",
   "execution_count": 1,
   "metadata": {},
   "outputs": [
    {
     "name": "stderr",
     "output_type": "stream",
     "text": [
      "C:\\LearnPython\\lib\\site-packages\\gensim\\utils.py:1197: UserWarning: detected Windows; aliasing chunkize to chunkize_serial\n",
      "  warnings.warn(\"detected Windows; aliasing chunkize to chunkize_serial\")\n"
     ]
    }
   ],
   "source": [
    "import pandas as pd\n",
    "import numpy as np\n",
    "import csv\n",
    "from nltk.stem import WordNetLemmatizer\n",
    "from gensim.models.doc2vec import TaggedDocument"
   ]
  },
  {
   "cell_type": "code",
   "execution_count": 3,
   "metadata": {},
   "outputs": [],
   "source": [
    "wnl = WordNetLemmatizer()\n",
    "\n",
    "class Sentences(object):\n",
    "    \n",
    "    def __init__(self, filename, column):\n",
    "        self.filename = filename\n",
    "        self.column = column\n",
    "        \n",
    "    @staticmethod\n",
    "    def get_tokens(text):\n",
    "        \"\"\"Helper function for tokenizing data\"\"\"\n",
    "        return [wnl.lemmatize(r.lower()) for r in text.split()]\n",
    " \n",
    "    def __iter__(self):\n",
    "        reader = csv.DictReader(open(self.filename, 'r' ))\n",
    "        for row in reader:\n",
    "            words = self.get_tokens(row[self.column])\n",
    "            tags = ['%s|%s' % (row['Artist'], row['SongID'])]\n",
    "            yield TaggedDocument(words=words, tags=tags)"
   ]
  },
  {
   "cell_type": "code",
   "execution_count": 6,
   "metadata": {},
   "outputs": [],
   "source": [
    "filename = 'C:/Users/alienware/Desktop/660project/preprocess/lyrics_dfclean_rap100.csv'\n",
    "sentences = Sentences(filename=filename, column='Lyrics')\n",
    "\n",
    "# for song lookups\n",
    "df_train = pd.read_csv(filename)"
   ]
  },
  {
   "cell_type": "code",
   "execution_count": 7,
   "metadata": {},
   "outputs": [
    {
     "name": "stderr",
     "output_type": "stream",
     "text": [
      "C:\\LearnPython\\lib\\site-packages\\gensim\\models\\doc2vec.py:362: UserWarning: The parameter `iter` is deprecated, will be removed in 4.0.0, use `epochs` instead.\n",
      "  warnings.warn(\"The parameter `iter` is deprecated, will be removed in 4.0.0, use `epochs` instead.\")\n",
      "C:\\LearnPython\\lib\\site-packages\\gensim\\models\\doc2vec.py:366: UserWarning: The parameter `size` is deprecated, will be removed in 4.0.0, use `vector_size` instead.\n",
      "  warnings.warn(\"The parameter `size` is deprecated, will be removed in 4.0.0, use `vector_size` instead.\")\n"
     ]
    }
   ],
   "source": [
    "\n",
    "from gensim.models.doc2vec import Doc2Vec\n",
    "\n",
    "model = Doc2Vec(\n",
    "    alpha=0.025,\n",
    "    min_alpha=0.025,\n",
    "    workers=15, \n",
    "    min_count=2,\n",
    "    window=10,\n",
    "    size=300,\n",
    "    iter=20,\n",
    "    sample=0.001,\n",
    "    negative=5\n",
    ")"
   ]
  },
  {
   "cell_type": "code",
   "execution_count": 8,
   "metadata": {},
   "outputs": [],
   "source": [
    "model.build_vocab(sentences)"
   ]
  },
  {
   "cell_type": "code",
   "execution_count": 9,
   "metadata": {},
   "outputs": [],
   "source": [
    "model.save('rap-lyrics.doc2vec')\n",
    "\n",
    "model = Doc2Vec.load('rap-lyrics.doc2vec')"
   ]
  },
  {
   "cell_type": "code",
   "execution_count": 10,
   "metadata": {},
   "outputs": [
    {
     "data": {
      "text/plain": [
       "array([-8.27293610e-04,  1.13599829e-03, -1.09892178e-04,  6.10313553e-04,\n",
       "       -1.42151793e-03, -1.59448595e-03, -8.58863350e-04, -1.62838679e-03,\n",
       "        1.02682493e-03,  1.14852143e-03, -1.06908998e-03,  2.92785146e-04,\n",
       "       -4.38364776e-04,  5.53547579e-04,  3.11632088e-04,  1.26060928e-04,\n",
       "       -1.08255947e-04, -3.11860320e-04,  1.59630156e-03,  1.28818268e-03,\n",
       "       -3.66141030e-04, -7.63866294e-04,  4.97325440e-04,  5.62938978e-04,\n",
       "       -5.95003599e-04, -2.46542157e-04, -1.55941725e-05,  1.40561839e-03,\n",
       "        6.02122105e-04,  7.96552456e-04, -9.64202394e-04, -1.16286380e-03,\n",
       "       -1.66243582e-03,  1.37317274e-03, -1.34061812e-03, -1.02661818e-03,\n",
       "        1.41749752e-03, -1.30592950e-03,  9.32906463e-04,  1.46190519e-03,\n",
       "        1.66141323e-03, -1.04556893e-04, -1.01580482e-03, -4.48227482e-04,\n",
       "       -3.05193134e-05, -7.42997508e-04, -1.42817886e-03, -1.48699665e-03,\n",
       "        1.50756084e-03,  5.68806136e-04,  4.01450932e-04,  1.58729020e-03,\n",
       "       -1.32646179e-03, -5.55610226e-04, -1.62613054e-03,  6.79944467e-04,\n",
       "       -1.39513181e-03,  8.32845224e-04,  4.60488081e-04,  1.29030657e-03,\n",
       "        1.53223309e-03,  1.08295667e-03, -1.10364344e-03,  1.31175411e-03,\n",
       "       -1.09048572e-03, -1.28789968e-03,  1.16707408e-03, -8.17402499e-04,\n",
       "       -8.47548421e-04, -1.24129839e-03, -8.30198755e-04, -5.94025187e-04,\n",
       "        1.61749136e-03,  9.65508050e-04, -3.70792754e-04,  1.36200641e-03,\n",
       "        1.28095993e-03, -1.24742277e-03,  1.24017801e-03,  7.09187530e-04,\n",
       "        1.48668874e-03,  1.12271216e-03,  8.08771409e-04,  4.02610982e-04,\n",
       "        5.70103177e-04,  8.23736773e-04,  1.57870376e-03, -5.35596104e-04,\n",
       "       -1.08500384e-03, -4.17803065e-04,  8.32702426e-06,  1.40444271e-03,\n",
       "       -2.21447757e-04, -3.26397596e-04, -1.98119975e-04,  1.61637447e-03,\n",
       "        4.71826032e-04, -1.23992225e-03,  6.69872388e-04,  2.16518718e-04,\n",
       "        1.52032729e-03, -9.23627376e-05,  1.03556528e-03,  1.51856191e-04,\n",
       "        4.25396924e-04, -1.54312933e-03, -6.74123992e-04, -6.13454438e-04,\n",
       "       -1.24585291e-03, -1.51688757e-03,  1.41441019e-03, -1.66636088e-03,\n",
       "        2.77671003e-04, -2.06914003e-04, -1.37716997e-03,  7.52035761e-04,\n",
       "        3.00934975e-04,  4.05431987e-04, -1.47126627e-03,  1.33777212e-03,\n",
       "       -1.11512246e-03, -1.68523602e-05,  2.12112296e-04,  1.47681823e-03,\n",
       "       -1.19588291e-03, -6.11716532e-04, -2.02045718e-04, -1.11308566e-03,\n",
       "        9.04003624e-04,  5.77014114e-04, -1.84857243e-04, -5.41220186e-04,\n",
       "       -9.32633935e-04,  1.21889368e-03, -4.00379417e-04, -4.99107118e-04,\n",
       "       -1.48957234e-03, -2.77363375e-04,  1.26328180e-03,  1.22584682e-03,\n",
       "        1.31724006e-03,  8.27136217e-04,  9.62393591e-04,  4.52462351e-04,\n",
       "        2.79755157e-04,  1.04418350e-03,  1.46906357e-03,  1.46599114e-03,\n",
       "       -3.45993496e-04,  1.20859081e-03, -8.87330098e-05,  1.57025864e-03,\n",
       "        8.06073658e-04,  9.87775275e-04,  1.08077447e-03, -2.16403423e-04,\n",
       "       -1.15954957e-03, -1.32564153e-03, -1.24266965e-03,  8.28509859e-04,\n",
       "       -4.53058194e-04, -1.38122166e-04,  3.80785816e-04, -5.80385386e-04,\n",
       "        1.42874982e-04, -1.46752060e-03,  1.61119353e-03, -7.77442416e-04,\n",
       "       -1.17974565e-03,  6.00852421e-04, -1.58131390e-03,  9.28547583e-04,\n",
       "       -4.44096921e-04,  6.97406416e-04, -1.59652520e-03,  8.83644796e-04,\n",
       "       -2.65069044e-04,  1.60981523e-04, -3.59106227e-04, -1.05477730e-03,\n",
       "       -2.94900296e-04,  6.99210912e-04, -1.62333855e-03,  5.21129637e-04,\n",
       "       -7.27858423e-05,  3.42903135e-04,  1.56012818e-03, -4.86339908e-04,\n",
       "       -3.72982264e-04,  8.02134164e-04, -9.34943964e-04,  5.40746376e-04,\n",
       "       -1.32081611e-03,  9.81177902e-04, -1.41738006e-03,  3.78482451e-04,\n",
       "       -6.07399736e-04,  1.56854524e-03, -4.81763127e-04,  3.76571406e-04,\n",
       "        1.44568877e-03,  2.95878563e-05, -4.07913962e-04,  6.96916366e-04,\n",
       "       -1.56679621e-03,  1.33581320e-03,  6.76315220e-04,  1.99239039e-05,\n",
       "       -1.42104342e-03, -1.65121615e-04,  7.76655797e-04,  1.13331492e-03,\n",
       "        1.00696794e-04,  1.55357295e-03, -5.78180712e-04, -6.75541000e-04,\n",
       "       -2.20271730e-04,  6.71462854e-04,  7.66002107e-04,  3.34204844e-04,\n",
       "       -1.02267903e-03,  1.44825759e-03,  1.48788362e-03,  1.65592530e-03,\n",
       "       -2.48870620e-05, -3.40696242e-05, -1.03650382e-03, -1.11458858e-03,\n",
       "        1.48568803e-03, -1.48262829e-03, -1.14618137e-03, -1.31549186e-03,\n",
       "       -8.76326812e-04,  1.95545465e-04, -1.39043631e-03,  1.13661506e-03,\n",
       "       -2.34284118e-04, -3.05146910e-04, -4.09661967e-04,  3.39660939e-04,\n",
       "       -1.35966309e-03,  1.80707386e-04,  1.04183401e-03,  7.63876422e-04,\n",
       "       -1.21703034e-03,  1.51851354e-03, -4.99560789e-04, -3.54293576e-07,\n",
       "        1.63438590e-03,  1.38454977e-03, -1.80134390e-04,  5.14324696e-04,\n",
       "       -1.60528661e-03,  1.12374651e-03, -9.25036438e-04,  1.03776110e-03,\n",
       "        1.02817663e-03,  7.26164959e-04, -2.75967002e-04,  1.00069039e-03,\n",
       "        1.07137475e-03, -6.03313965e-04, -6.12853852e-04,  1.45486894e-03,\n",
       "       -7.72662752e-04, -3.70795606e-04, -3.60029371e-04,  7.44068646e-04,\n",
       "        4.45108511e-04, -8.43098853e-04,  1.63822062e-03,  1.53431331e-03,\n",
       "        3.87308042e-04, -1.56603463e-03,  1.31029892e-03, -1.62357301e-03,\n",
       "        6.47729670e-04, -9.83265491e-05, -2.12110870e-04, -4.92982908e-05,\n",
       "       -8.22628557e-04,  5.04854470e-05, -5.60896180e-04, -1.31963214e-04,\n",
       "        1.01210712e-03, -1.58927648e-03,  1.28301024e-03, -5.92763885e-04,\n",
       "        1.76029615e-04, -3.24202672e-04,  5.48311858e-04, -8.74408521e-04,\n",
       "       -1.15635362e-03,  4.88561345e-05,  1.48797978e-03,  1.25640084e-03,\n",
       "       -4.36847651e-04,  1.09957298e-03, -1.24812475e-04,  1.46403594e-03],\n",
       "      dtype=float32)"
      ]
     },
     "execution_count": 10,
     "metadata": {},
     "output_type": "execute_result"
    }
   ],
   "source": [
    "model.wv.word_vec('rap')"
   ]
  },
  {
   "cell_type": "code",
   "execution_count": 11,
   "metadata": {},
   "outputs": [
    {
     "data": {
      "text/plain": [
       "[('starstudded', 0.17968499660491943),\n",
       " ('zoovie', 0.1700185090303421),\n",
       " ('geeked', 0.16624122858047485),\n",
       " ('yeahnfeel', 0.16494768857955933),\n",
       " ('toynbout', 0.16405844688415527),\n",
       " ('ferg', 0.15051430463790894),\n",
       " ('pinky', 0.1471334993839264),\n",
       " ('storenhad', 0.1465548276901245),\n",
       " ('beyonc茅', 0.14644530415534973),\n",
       " ('begginnfor', 0.14447489380836487)]"
      ]
     },
     "execution_count": 11,
     "metadata": {},
     "output_type": "execute_result"
    }
   ],
   "source": [
    "model.wv.most_similar('you')"
   ]
  },
  {
   "cell_type": "code",
   "execution_count": 12,
   "metadata": {},
   "outputs": [],
   "source": [
    "def print_titles(results):\n",
    "    lookup = lambda x: df_train[\n",
    "        df_train.song_id==int(x)\n",
    "    ].song.values[0]\n",
    "    return [\n",
    "        [\n",
    "            i[0].split('|')[0], \n",
    "            lookup(i[0].split('|')[1]), \n",
    "            i[1]\n",
    "        ] for i in results\n",
    "    ]"
   ]
  },
  {
   "cell_type": "code",
   "execution_count": 13,
   "metadata": {},
   "outputs": [
    {
     "ename": "KeyError",
     "evalue": "\"tag '??????' not seen in training corpus/invalid\"",
     "output_type": "error",
     "traceback": [
      "\u001b[1;31m---------------------------------------------------------------------------\u001b[0m",
      "\u001b[1;31mKeyError\u001b[0m                                  Traceback (most recent call last)",
      "\u001b[1;32m<ipython-input-13-6f49097454da>\u001b[0m in \u001b[0;36m<module>\u001b[1;34m()\u001b[0m\n\u001b[0;32m      1\u001b[0m print_titles(\n\u001b[1;32m----> 2\u001b[1;33m     \u001b[0mmodel\u001b[0m\u001b[1;33m.\u001b[0m\u001b[0mdocvecs\u001b[0m\u001b[1;33m.\u001b[0m\u001b[0mmost_similar\u001b[0m\u001b[1;33m(\u001b[0m\u001b[1;33m[\u001b[0m\u001b[0mmodel\u001b[0m\u001b[1;33m[\u001b[0m\u001b[1;34m'??????'\u001b[0m\u001b[1;33m]\u001b[0m\u001b[1;33m]\u001b[0m\u001b[1;33m,\u001b[0m \u001b[0mtopn\u001b[0m\u001b[1;33m=\u001b[0m\u001b[1;36m10\u001b[0m\u001b[1;33m)\u001b[0m\u001b[1;33m\u001b[0m\u001b[0m\n\u001b[0m\u001b[0;32m      3\u001b[0m )\n",
      "\u001b[1;32mC:\\LearnPython\\lib\\site-packages\\gensim\\models\\doc2vec.py\u001b[0m in \u001b[0;36m__getitem__\u001b[1;34m(self, tag)\u001b[0m\n\u001b[0;32m    570\u001b[0m         \u001b[1;32mif\u001b[0m \u001b[0misinstance\u001b[0m\u001b[1;33m(\u001b[0m\u001b[0mtag\u001b[0m\u001b[1;33m,\u001b[0m \u001b[0mstring_types\u001b[0m \u001b[1;33m+\u001b[0m \u001b[0minteger_types\u001b[0m \u001b[1;33m+\u001b[0m \u001b[1;33m(\u001b[0m\u001b[0minteger\u001b[0m\u001b[1;33m,\u001b[0m\u001b[1;33m)\u001b[0m\u001b[1;33m)\u001b[0m\u001b[1;33m:\u001b[0m\u001b[1;33m\u001b[0m\u001b[0m\n\u001b[0;32m    571\u001b[0m             \u001b[1;32mif\u001b[0m \u001b[0mtag\u001b[0m \u001b[1;32mnot\u001b[0m \u001b[1;32min\u001b[0m \u001b[0mself\u001b[0m\u001b[1;33m.\u001b[0m\u001b[0mwv\u001b[0m\u001b[1;33m.\u001b[0m\u001b[0mvocab\u001b[0m\u001b[1;33m:\u001b[0m\u001b[1;33m\u001b[0m\u001b[0m\n\u001b[1;32m--> 572\u001b[1;33m                 \u001b[1;32mreturn\u001b[0m \u001b[0mself\u001b[0m\u001b[1;33m.\u001b[0m\u001b[0mdocvecs\u001b[0m\u001b[1;33m[\u001b[0m\u001b[0mtag\u001b[0m\u001b[1;33m]\u001b[0m\u001b[1;33m\u001b[0m\u001b[0m\n\u001b[0m\u001b[0;32m    573\u001b[0m             \u001b[1;32mreturn\u001b[0m \u001b[0mself\u001b[0m\u001b[1;33m.\u001b[0m\u001b[0mwv\u001b[0m\u001b[1;33m[\u001b[0m\u001b[0mtag\u001b[0m\u001b[1;33m]\u001b[0m\u001b[1;33m\u001b[0m\u001b[0m\n\u001b[0;32m    574\u001b[0m         \u001b[1;32mreturn\u001b[0m \u001b[0mvstack\u001b[0m\u001b[1;33m(\u001b[0m\u001b[1;33m[\u001b[0m\u001b[0mself\u001b[0m\u001b[1;33m[\u001b[0m\u001b[0mi\u001b[0m\u001b[1;33m]\u001b[0m \u001b[1;32mfor\u001b[0m \u001b[0mi\u001b[0m \u001b[1;32min\u001b[0m \u001b[0mtag\u001b[0m\u001b[1;33m]\u001b[0m\u001b[1;33m)\u001b[0m\u001b[1;33m\u001b[0m\u001b[0m\n",
      "\u001b[1;32mC:\\LearnPython\\lib\\site-packages\\gensim\\models\\keyedvectors.py\u001b[0m in \u001b[0;36m__getitem__\u001b[1;34m(self, index)\u001b[0m\n\u001b[0;32m   1197\u001b[0m                 \u001b[1;32mreturn\u001b[0m \u001b[0mself\u001b[0m\u001b[1;33m.\u001b[0m\u001b[0mvectors_docs\u001b[0m\u001b[1;33m[\u001b[0m\u001b[0mself\u001b[0m\u001b[1;33m.\u001b[0m\u001b[0m_int_index\u001b[0m\u001b[1;33m(\u001b[0m\u001b[0mindex\u001b[0m\u001b[1;33m,\u001b[0m \u001b[0mself\u001b[0m\u001b[1;33m.\u001b[0m\u001b[0mdoctags\u001b[0m\u001b[1;33m,\u001b[0m \u001b[0mself\u001b[0m\u001b[1;33m.\u001b[0m\u001b[0mmax_rawint\u001b[0m\u001b[1;33m)\u001b[0m\u001b[1;33m]\u001b[0m\u001b[1;33m\u001b[0m\u001b[0m\n\u001b[0;32m   1198\u001b[0m             \u001b[1;32mreturn\u001b[0m \u001b[0mvstack\u001b[0m\u001b[1;33m(\u001b[0m\u001b[1;33m[\u001b[0m\u001b[0mself\u001b[0m\u001b[1;33m[\u001b[0m\u001b[0mi\u001b[0m\u001b[1;33m]\u001b[0m \u001b[1;32mfor\u001b[0m \u001b[0mi\u001b[0m \u001b[1;32min\u001b[0m \u001b[0mindex\u001b[0m\u001b[1;33m]\u001b[0m\u001b[1;33m)\u001b[0m\u001b[1;33m\u001b[0m\u001b[0m\n\u001b[1;32m-> 1199\u001b[1;33m         \u001b[1;32mraise\u001b[0m \u001b[0mKeyError\u001b[0m\u001b[1;33m(\u001b[0m\u001b[1;34m\"tag '%s' not seen in training corpus/invalid\"\u001b[0m \u001b[1;33m%\u001b[0m \u001b[0mindex\u001b[0m\u001b[1;33m)\u001b[0m\u001b[1;33m\u001b[0m\u001b[0m\n\u001b[0m\u001b[0;32m   1200\u001b[0m \u001b[1;33m\u001b[0m\u001b[0m\n\u001b[0;32m   1201\u001b[0m     \u001b[1;32mdef\u001b[0m \u001b[0m__contains__\u001b[0m\u001b[1;33m(\u001b[0m\u001b[0mself\u001b[0m\u001b[1;33m,\u001b[0m \u001b[0mindex\u001b[0m\u001b[1;33m)\u001b[0m\u001b[1;33m:\u001b[0m\u001b[1;33m\u001b[0m\u001b[0m\n",
      "\u001b[1;31mKeyError\u001b[0m: \"tag '??????' not seen in training corpus/invalid\""
     ]
    }
   ],
   "source": [
    "print_titles(\n",
    "    model.docvecs.most_similar([model['??????']], topn=10)\n",
    ")"
   ]
  }
 ],
 "metadata": {
  "kernelspec": {
   "display_name": "Python 3",
   "language": "python",
   "name": "python3"
  },
  "language_info": {
   "codemirror_mode": {
    "name": "ipython",
    "version": 3
   },
   "file_extension": ".py",
   "mimetype": "text/x-python",
   "name": "python",
   "nbconvert_exporter": "python",
   "pygments_lexer": "ipython3",
   "version": "3.6.4"
  }
 },
 "nbformat": 4,
 "nbformat_minor": 2
}
