{
 "cells": [
  {
   "cell_type": "code",
   "execution_count": 3,
   "metadata": {},
   "outputs": [],
   "source": [
    "import pandas as pd\n",
    "import numpy as np\n",
    "import csv\n",
    "from nltk.stem import WordNetLemmatizer\n",
    "from gensim.models.doc2vec import TaggedDocument"
   ]
  },
  {
   "cell_type": "code",
   "execution_count": 4,
   "metadata": {},
   "outputs": [],
   "source": [
    "wnl = WordNetLemmatizer()\n",
    "\n",
    "class Sentences(object):\n",
    "    \n",
    "    def __init__(self, filename, column):\n",
    "        self.filename = filename\n",
    "        self.column = column\n",
    "        \n",
    "    @staticmethod\n",
    "    def get_tokens(text):\n",
    "        \"\"\"Helper function for tokenizing data\"\"\"\n",
    "        return [wnl.lemmatize(r.lower()) for r in text.split()]\n",
    " \n",
    "    def __iter__(self):\n",
    "        reader = csv.DictReader(open(self.filename, 'r' ))\n",
    "        for row in reader:\n",
    "            words = self.get_tokens(row[self.column])\n",
    "            tags = ['%s|%s' % (row['Artist'], row['SongID'])]\n",
    "            yield TaggedDocument(words=words, tags=tags)"
   ]
  },
  {
   "cell_type": "code",
   "execution_count": 5,
   "metadata": {},
   "outputs": [],
   "source": [
    "filename = 'C:/Users/alienware/Desktop/660project/preprocess/lyrics_dfclean_rap100.csv'\n",
    "sentences = Sentences(filename=filename, column='Lyrics')\n",
    "\n",
    "# for song lookups\n",
    "df_train = pd.read_csv(filename)"
   ]
  },
  {
   "cell_type": "code",
   "execution_count": 6,
   "metadata": {},
   "outputs": [
    {
     "name": "stderr",
     "output_type": "stream",
     "text": [
      "C:\\LearnPython\\lib\\site-packages\\gensim\\models\\doc2vec.py:362: UserWarning: The parameter `iter` is deprecated, will be removed in 4.0.0, use `epochs` instead.\n",
      "  warnings.warn(\"The parameter `iter` is deprecated, will be removed in 4.0.0, use `epochs` instead.\")\n",
      "C:\\LearnPython\\lib\\site-packages\\gensim\\models\\doc2vec.py:366: UserWarning: The parameter `size` is deprecated, will be removed in 4.0.0, use `vector_size` instead.\n",
      "  warnings.warn(\"The parameter `size` is deprecated, will be removed in 4.0.0, use `vector_size` instead.\")\n"
     ]
    }
   ],
   "source": [
    "\n",
    "from gensim.models.doc2vec import Doc2Vec\n",
    "\n",
    "model = Doc2Vec(\n",
    "    alpha=0.002,\n",
    "    min_alpha=0.002,\n",
    "    workers=15, \n",
    "    min_count=2,\n",
    "    window=10,\n",
    "    size=300,\n",
    "    iter=20,\n",
    "    sample=0.001,\n",
    "    negative=5\n",
    ")"
   ]
  },
  {
   "cell_type": "code",
   "execution_count": 7,
   "metadata": {},
   "outputs": [],
   "source": [
    "model.build_vocab(sentences)"
   ]
  },
  {
   "cell_type": "code",
   "execution_count": 8,
   "metadata": {},
   "outputs": [],
   "source": [
    "model.save('lyrics.doc2vec')\n",
    "\n",
    "model = Doc2Vec.load('lyrics.doc2vec')"
   ]
  },
  {
   "cell_type": "code",
   "execution_count": 9,
   "metadata": {},
   "outputs": [
    {
     "data": {
      "text/plain": [
       "array([ 9.22648003e-04,  1.02066959e-03,  2.26430551e-04, -8.50012526e-04,\n",
       "       -5.64071874e-04, -5.03094052e-04, -1.20561686e-03,  1.43142091e-03,\n",
       "        1.48837653e-03, -2.08818921e-04,  1.33928040e-03, -1.42352446e-03,\n",
       "       -1.09329587e-04,  9.19446931e-04,  1.46354013e-03,  5.10462734e-04,\n",
       "       -1.47717854e-03,  7.11222412e-04, -1.63055817e-03,  1.50625754e-04,\n",
       "        7.16709706e-04,  7.60422554e-04, -7.43660028e-04,  1.30806339e-03,\n",
       "       -1.61521486e-03, -1.08269560e-04, -1.16585742e-03, -1.03447167e-03,\n",
       "       -1.28136040e-03, -8.67220631e-04, -1.60373119e-03, -1.62033574e-03,\n",
       "        2.79905740e-04, -1.23875693e-03, -1.61456075e-04, -1.02278376e-04,\n",
       "       -7.65314791e-04, -5.02639276e-04, -7.57477712e-04,  2.24551317e-04,\n",
       "        1.42786698e-03, -5.77597122e-04, -6.55181182e-04,  1.01301703e-03,\n",
       "        7.38075352e-04, -3.81955499e-04,  1.59585569e-03, -1.02736265e-03,\n",
       "        5.71544166e-04, -1.60775660e-03,  9.53817740e-04, -4.43160854e-04,\n",
       "        8.55688064e-04,  1.08160381e-03,  7.44123769e-04, -1.76749367e-04,\n",
       "        1.33603916e-03,  5.01126342e-05, -1.02058775e-03, -2.50069570e-04,\n",
       "        4.15202376e-04, -3.64113832e-04, -1.57155085e-03,  2.34776016e-04,\n",
       "        1.01547816e-03, -7.20031734e-04, -4.04623861e-04,  7.79600989e-04,\n",
       "        1.26755319e-03, -9.60116158e-04,  1.05264690e-03, -8.29000724e-04,\n",
       "        1.73978071e-04, -2.50388519e-04, -1.20611431e-03,  7.86914490e-04,\n",
       "        1.19177066e-03, -8.18391389e-04,  3.67628614e-04, -1.56903884e-03,\n",
       "        1.15552929e-03, -6.42466650e-04,  1.05605519e-03, -1.63827348e-03,\n",
       "       -6.64505642e-04,  1.60682597e-03, -1.07855292e-03,  2.47301388e-04,\n",
       "       -8.92981712e-04, -8.75648286e-04, -2.83275614e-04,  7.24126468e-04,\n",
       "       -1.57475215e-03,  1.39502750e-03, -2.67590745e-04, -1.59724173e-03,\n",
       "        1.30125764e-03, -1.37516053e-03, -7.79694470e-04,  1.21044926e-03,\n",
       "       -1.23995327e-04,  1.28694938e-03, -1.48555147e-03,  9.33722593e-04,\n",
       "       -3.45491804e-04, -6.77951612e-05, -5.34200983e-04,  1.37874600e-03,\n",
       "        2.64183735e-04, -1.04675901e-05,  4.02710779e-04,  6.57133118e-04,\n",
       "       -6.27756235e-04,  1.64155953e-03, -7.93826301e-04,  5.67365460e-05,\n",
       "        7.35585985e-04, -3.91557871e-04, -2.62365240e-04, -1.53817667e-03,\n",
       "        1.20749476e-03, -2.01338029e-04,  4.04532882e-04,  4.36742965e-04,\n",
       "       -6.52269286e-04,  4.97122121e-04, -8.33675789e-04,  3.77049379e-04,\n",
       "        1.11856847e-03, -8.74141464e-04,  7.40867516e-04, -7.15051661e-04,\n",
       "        1.62056624e-03,  8.87924107e-04, -7.07206898e-04,  1.58479612e-03,\n",
       "       -1.32432848e-03, -9.08716320e-05,  1.14677753e-03,  1.16510666e-03,\n",
       "        1.41974469e-03,  2.57401756e-04,  2.67614287e-05, -8.06192402e-04,\n",
       "       -1.49360928e-03, -5.95521589e-04,  1.35101296e-03,  4.02107631e-04,\n",
       "        1.18334452e-03,  7.14413763e-04,  1.19695626e-03, -1.38342963e-03,\n",
       "        8.45351373e-04, -1.14405062e-03,  8.03204253e-04, -1.27963477e-03,\n",
       "        9.08730493e-04, -8.03843723e-04, -2.99037434e-04, -1.61728507e-03,\n",
       "       -1.19452318e-03, -1.85006575e-04, -9.59865632e-04, -1.55742222e-03,\n",
       "        1.22206437e-03,  1.19084702e-03, -8.51692806e-04,  1.48221501e-03,\n",
       "        8.76304402e-04, -1.64438714e-03,  9.22887295e-04, -1.59808830e-03,\n",
       "        6.19096274e-04, -1.20865053e-03,  1.48191385e-03, -6.14754565e-04,\n",
       "       -1.17973657e-03,  9.75301606e-04, -3.89505731e-04,  6.12248332e-05,\n",
       "        1.41431566e-03,  1.15936587e-03, -1.29729358e-03,  1.04100222e-03,\n",
       "       -6.51091512e-04,  1.22964557e-03, -7.42951117e-04,  1.28162745e-03,\n",
       "        9.60740726e-04, -7.90362363e-04,  5.16212778e-04,  1.18006545e-03,\n",
       "        1.29283546e-03,  5.29633777e-04,  1.08562596e-03,  4.40821343e-04,\n",
       "        1.14690477e-03,  6.81241159e-04, -1.74528628e-04,  1.00261264e-03,\n",
       "        5.33528102e-04,  5.45945892e-04,  9.21076105e-04,  3.54090647e-04,\n",
       "       -1.17665979e-04, -3.06748028e-04,  4.77230700e-04,  5.02122391e-04,\n",
       "        1.40899990e-03, -1.56400329e-03,  1.10132876e-03,  1.15803978e-03,\n",
       "       -1.65586453e-03,  6.36920216e-04, -1.28404400e-03, -3.34268116e-04,\n",
       "       -9.70095920e-04,  1.48646999e-03, -2.65059930e-06,  3.19716957e-04,\n",
       "        2.36040738e-04,  4.06027684e-04,  5.70743985e-04, -9.46793938e-04,\n",
       "       -3.54002113e-04,  1.58838765e-03, -6.94115297e-04,  1.23740430e-03,\n",
       "        1.13636453e-03, -1.13748759e-03, -1.63595611e-03,  5.48242650e-04,\n",
       "       -1.01066777e-03,  9.23433341e-04, -4.15830873e-04, -9.97089548e-04,\n",
       "        5.45714283e-04, -1.50124379e-03, -4.59062809e-04, -1.66058529e-03,\n",
       "        5.44932031e-04,  3.21032829e-04,  1.01343344e-03, -7.64073920e-04,\n",
       "       -1.46103010e-03,  1.00357726e-03, -2.35133251e-04,  3.60879494e-04,\n",
       "       -1.99589704e-04,  3.23975946e-05,  1.45508046e-03, -4.29197651e-04,\n",
       "       -5.64341717e-05,  8.42811744e-07,  6.56503777e-04,  8.99130609e-05,\n",
       "        1.14754506e-03, -4.92882798e-04,  9.52171104e-04,  5.29947400e-04,\n",
       "       -1.38388691e-03,  1.34826219e-03,  6.65715605e-04, -1.65280653e-03,\n",
       "       -3.75290867e-04, -1.60209963e-03,  7.64723693e-04,  1.96918045e-04,\n",
       "       -1.13063608e-03, -1.16072281e-03, -1.13223039e-03, -1.25680224e-03,\n",
       "        1.38877972e-03, -9.55778698e-04, -1.33252074e-03, -7.48534861e-04,\n",
       "        1.05809573e-04, -7.48160528e-04, -3.90795380e-04,  2.78172054e-04,\n",
       "        7.02915480e-04, -1.28918048e-03, -1.13355985e-03, -3.25375557e-04,\n",
       "        1.17026560e-03,  1.88576130e-04, -1.61647529e-03, -1.13406277e-03,\n",
       "       -1.20207516e-03,  1.61523349e-03, -4.22526005e-04, -1.39466964e-03,\n",
       "       -9.70641559e-04,  1.14247587e-03,  9.69162968e-04, -1.10925561e-04,\n",
       "        2.96010316e-04,  2.46627518e-04, -8.39537475e-04,  5.69043157e-04],\n",
       "      dtype=float32)"
      ]
     },
     "execution_count": 9,
     "metadata": {},
     "output_type": "execute_result"
    }
   ],
   "source": [
    "model.wv.word_vec('rap')"
   ]
  },
  {
   "cell_type": "code",
   "execution_count": 17,
   "metadata": {},
   "outputs": [
    {
     "data": {
      "text/plain": [
       "[('sound', 0.18308037519454956),\n",
       " ('friendsnthey', 0.18186749517917633),\n",
       " ('save', 0.18142272531986237),\n",
       " ('else', 0.17627644538879395),\n",
       " ('xanax', 0.17517533898353577),\n",
       " ('yountell', 0.16326946020126343),\n",
       " ('holy', 0.16178609430789948),\n",
       " ('jelly', 0.16161216795444489),\n",
       " ('near', 0.157787024974823),\n",
       " ('talk', 0.15720215439796448)]"
      ]
     },
     "execution_count": 17,
     "metadata": {},
     "output_type": "execute_result"
    }
   ],
   "source": [
    "model.wv.most_similar('brother')"
   ]
  },
  {
   "cell_type": "code",
   "execution_count": 11,
   "metadata": {},
   "outputs": [],
   "source": [
    "def print_titles(results):\n",
    "    lookup = lambda x: df_train[\n",
    "        df_train.song_id==int(x)\n",
    "    ].song.values[0]\n",
    "    return [\n",
    "        [\n",
    "            i[0].split('|')[0], \n",
    "            lookup(i[0].split('|')[1]), \n",
    "            i[1]\n",
    "        ] for i in results\n",
    "    ]"
   ]
  },
  {
   "cell_type": "code",
   "execution_count": 12,
   "metadata": {},
   "outputs": [
    {
     "ename": "AttributeError",
     "evalue": "'DataFrame' object has no attribute 'song_id'",
     "output_type": "error",
     "traceback": [
      "\u001b[1;31m---------------------------------------------------------------------------\u001b[0m",
      "\u001b[1;31mAttributeError\u001b[0m                            Traceback (most recent call last)",
      "\u001b[1;32m<ipython-input-12-a2c128427991>\u001b[0m in \u001b[0;36m<module>\u001b[1;34m()\u001b[0m\n\u001b[0;32m      1\u001b[0m print_titles(\n\u001b[1;32m----> 2\u001b[1;33m     \u001b[0mmodel\u001b[0m\u001b[1;33m.\u001b[0m\u001b[0mdocvecs\u001b[0m\u001b[1;33m.\u001b[0m\u001b[0mmost_similar\u001b[0m\u001b[1;33m(\u001b[0m\u001b[1;33m[\u001b[0m\u001b[0mmodel\u001b[0m\u001b[1;33m[\u001b[0m\u001b[1;34m'rap'\u001b[0m\u001b[1;33m]\u001b[0m\u001b[1;33m]\u001b[0m\u001b[1;33m,\u001b[0m \u001b[0mtopn\u001b[0m\u001b[1;33m=\u001b[0m\u001b[1;36m10\u001b[0m\u001b[1;33m)\u001b[0m\u001b[1;33m\u001b[0m\u001b[0m\n\u001b[0m\u001b[0;32m      3\u001b[0m )\n",
      "\u001b[1;32m<ipython-input-11-101d95724fd0>\u001b[0m in \u001b[0;36mprint_titles\u001b[1;34m(results)\u001b[0m\n\u001b[0;32m      8\u001b[0m             \u001b[0mlookup\u001b[0m\u001b[1;33m(\u001b[0m\u001b[0mi\u001b[0m\u001b[1;33m[\u001b[0m\u001b[1;36m0\u001b[0m\u001b[1;33m]\u001b[0m\u001b[1;33m.\u001b[0m\u001b[0msplit\u001b[0m\u001b[1;33m(\u001b[0m\u001b[1;34m'|'\u001b[0m\u001b[1;33m)\u001b[0m\u001b[1;33m[\u001b[0m\u001b[1;36m1\u001b[0m\u001b[1;33m]\u001b[0m\u001b[1;33m)\u001b[0m\u001b[1;33m,\u001b[0m\u001b[1;33m\u001b[0m\u001b[0m\n\u001b[0;32m      9\u001b[0m             \u001b[0mi\u001b[0m\u001b[1;33m[\u001b[0m\u001b[1;36m1\u001b[0m\u001b[1;33m]\u001b[0m\u001b[1;33m\u001b[0m\u001b[0m\n\u001b[1;32m---> 10\u001b[1;33m         ] for i in results\n\u001b[0m\u001b[0;32m     11\u001b[0m     ]\n",
      "\u001b[1;32m<ipython-input-11-101d95724fd0>\u001b[0m in \u001b[0;36m<listcomp>\u001b[1;34m(.0)\u001b[0m\n\u001b[0;32m      8\u001b[0m             \u001b[0mlookup\u001b[0m\u001b[1;33m(\u001b[0m\u001b[0mi\u001b[0m\u001b[1;33m[\u001b[0m\u001b[1;36m0\u001b[0m\u001b[1;33m]\u001b[0m\u001b[1;33m.\u001b[0m\u001b[0msplit\u001b[0m\u001b[1;33m(\u001b[0m\u001b[1;34m'|'\u001b[0m\u001b[1;33m)\u001b[0m\u001b[1;33m[\u001b[0m\u001b[1;36m1\u001b[0m\u001b[1;33m]\u001b[0m\u001b[1;33m)\u001b[0m\u001b[1;33m,\u001b[0m\u001b[1;33m\u001b[0m\u001b[0m\n\u001b[0;32m      9\u001b[0m             \u001b[0mi\u001b[0m\u001b[1;33m[\u001b[0m\u001b[1;36m1\u001b[0m\u001b[1;33m]\u001b[0m\u001b[1;33m\u001b[0m\u001b[0m\n\u001b[1;32m---> 10\u001b[1;33m         ] for i in results\n\u001b[0m\u001b[0;32m     11\u001b[0m     ]\n",
      "\u001b[1;32m<ipython-input-11-101d95724fd0>\u001b[0m in \u001b[0;36m<lambda>\u001b[1;34m(x)\u001b[0m\n\u001b[0;32m      1\u001b[0m \u001b[1;32mdef\u001b[0m \u001b[0mprint_titles\u001b[0m\u001b[1;33m(\u001b[0m\u001b[0mresults\u001b[0m\u001b[1;33m)\u001b[0m\u001b[1;33m:\u001b[0m\u001b[1;33m\u001b[0m\u001b[0m\n\u001b[0;32m      2\u001b[0m     lookup = lambda x: df_train[\n\u001b[1;32m----> 3\u001b[1;33m         \u001b[0mdf_train\u001b[0m\u001b[1;33m.\u001b[0m\u001b[0msong_id\u001b[0m\u001b[1;33m==\u001b[0m\u001b[0mint\u001b[0m\u001b[1;33m(\u001b[0m\u001b[0mx\u001b[0m\u001b[1;33m)\u001b[0m\u001b[1;33m\u001b[0m\u001b[0m\n\u001b[0m\u001b[0;32m      4\u001b[0m     ].song.values[0]\n\u001b[0;32m      5\u001b[0m     return [\n",
      "\u001b[1;32mC:\\LearnPython\\lib\\site-packages\\pandas\\core\\generic.py\u001b[0m in \u001b[0;36m__getattr__\u001b[1;34m(self, name)\u001b[0m\n\u001b[0;32m   3612\u001b[0m             \u001b[1;32mif\u001b[0m \u001b[0mname\u001b[0m \u001b[1;32min\u001b[0m \u001b[0mself\u001b[0m\u001b[1;33m.\u001b[0m\u001b[0m_info_axis\u001b[0m\u001b[1;33m:\u001b[0m\u001b[1;33m\u001b[0m\u001b[0m\n\u001b[0;32m   3613\u001b[0m                 \u001b[1;32mreturn\u001b[0m \u001b[0mself\u001b[0m\u001b[1;33m[\u001b[0m\u001b[0mname\u001b[0m\u001b[1;33m]\u001b[0m\u001b[1;33m\u001b[0m\u001b[0m\n\u001b[1;32m-> 3614\u001b[1;33m             \u001b[1;32mreturn\u001b[0m \u001b[0mobject\u001b[0m\u001b[1;33m.\u001b[0m\u001b[0m__getattribute__\u001b[0m\u001b[1;33m(\u001b[0m\u001b[0mself\u001b[0m\u001b[1;33m,\u001b[0m \u001b[0mname\u001b[0m\u001b[1;33m)\u001b[0m\u001b[1;33m\u001b[0m\u001b[0m\n\u001b[0m\u001b[0;32m   3615\u001b[0m \u001b[1;33m\u001b[0m\u001b[0m\n\u001b[0;32m   3616\u001b[0m     \u001b[1;32mdef\u001b[0m \u001b[0m__setattr__\u001b[0m\u001b[1;33m(\u001b[0m\u001b[0mself\u001b[0m\u001b[1;33m,\u001b[0m \u001b[0mname\u001b[0m\u001b[1;33m,\u001b[0m \u001b[0mvalue\u001b[0m\u001b[1;33m)\u001b[0m\u001b[1;33m:\u001b[0m\u001b[1;33m\u001b[0m\u001b[0m\n",
      "\u001b[1;31mAttributeError\u001b[0m: 'DataFrame' object has no attribute 'song_id'"
     ]
    }
   ],
   "source": [
    "print_titles(\n",
    "    model.docvecs.most_similar([model['rap']], topn=10)\n",
    ")"
   ]
  }
 ],
 "metadata": {
  "kernelspec": {
   "display_name": "Python 3",
   "language": "python",
   "name": "python3"
  },
  "language_info": {
   "codemirror_mode": {
    "name": "ipython",
    "version": 3
   },
   "file_extension": ".py",
   "mimetype": "text/x-python",
   "name": "python",
   "nbconvert_exporter": "python",
   "pygments_lexer": "ipython3",
   "version": "3.6.4"
  }
 },
 "nbformat": 4,
 "nbformat_minor": 2
}
