{
 "cells": [
  {
   "cell_type": "code",
   "execution_count": 2,
   "metadata": {},
   "outputs": [
    {
     "name": "stderr",
     "output_type": "stream",
     "text": [
      "C:\\LearnPython\\lib\\site-packages\\gensim\\utils.py:1197: UserWarning: detected Windows; aliasing chunkize to chunkize_serial\n",
      "  warnings.warn(\"detected Windows; aliasing chunkize to chunkize_serial\")\n"
     ]
    }
   ],
   "source": [
    "import pandas as pd\n",
    "import numpy as np\n",
    "import csv\n",
    "from nltk.stem import WordNetLemmatizer\n",
    "from gensim.models.doc2vec import TaggedDocument"
   ]
  },
  {
   "cell_type": "code",
   "execution_count": 3,
   "metadata": {},
   "outputs": [],
   "source": [
    "wnl = WordNetLemmatizer()\n",
    "\n",
    "class Sentences(object):\n",
    "    \n",
    "    def __init__(self, filename, column):\n",
    "        self.filename = filename\n",
    "        self.column = column\n",
    "        \n",
    "    @staticmethod\n",
    "    def get_tokens(text):\n",
    "        \"\"\"Helper function for tokenizing data\"\"\"\n",
    "        return [wnl.lemmatize(r.lower()) for r in text.split()]\n",
    " \n",
    "    def __iter__(self):\n",
    "        reader = csv.DictReader(open(self.filename, 'r' ))\n",
    "        for row in reader:\n",
    "            words = self.get_tokens(row[self.column])\n",
    "            tags = ['%s|%s' % (row['Artist'], row['SongID'])]\n",
    "            yield TaggedDocument(words=words, tags=tags)"
   ]
  },
  {
   "cell_type": "code",
   "execution_count": 4,
   "metadata": {},
   "outputs": [],
   "source": [
    "filename = 'C:/Users/alienware/Desktop/660project/preprocess/lyrics_dfclean_rap100.csv'\n",
    "sentences = Sentences(filename=filename, column='Lyrics')\n",
    "\n",
    "# for song lookups\n",
    "df_train = pd.read_csv(filename)"
   ]
  },
  {
   "cell_type": "code",
   "execution_count": 5,
   "metadata": {},
   "outputs": [
    {
     "name": "stderr",
     "output_type": "stream",
     "text": [
      "C:\\LearnPython\\lib\\site-packages\\gensim\\models\\doc2vec.py:362: UserWarning: The parameter `iter` is deprecated, will be removed in 4.0.0, use `epochs` instead.\n",
      "  warnings.warn(\"The parameter `iter` is deprecated, will be removed in 4.0.0, use `epochs` instead.\")\n",
      "C:\\LearnPython\\lib\\site-packages\\gensim\\models\\doc2vec.py:366: UserWarning: The parameter `size` is deprecated, will be removed in 4.0.0, use `vector_size` instead.\n",
      "  warnings.warn(\"The parameter `size` is deprecated, will be removed in 4.0.0, use `vector_size` instead.\")\n"
     ]
    }
   ],
   "source": [
    "\n",
    "from gensim.models.doc2vec import Doc2Vec\n",
    "\n",
    "model = Doc2Vec(\n",
    "    alpha=0.002,\n",
    "    min_alpha=0.002,\n",
    "    workers=15, \n",
    "    min_count=2,\n",
    "    window=10,\n",
    "    size=300,\n",
    "    iter=20,\n",
    "    sample=0.001,\n",
    "    negative=5\n",
    ")"
   ]
  },
  {
   "cell_type": "code",
   "execution_count": 6,
   "metadata": {},
   "outputs": [],
   "source": [
    "model.build_vocab(sentences)"
   ]
  },
  {
   "cell_type": "code",
   "execution_count": 7,
   "metadata": {},
   "outputs": [],
   "source": [
    "model.save('lyrics.doc2vec')\n",
    "\n",
    "model = Doc2Vec.load('lyrics.doc2vec')"
   ]
  },
  {
   "cell_type": "code",
   "execution_count": 11,
   "metadata": {
    "scrolled": true
   },
   "outputs": [
    {
     "data": {
      "text/plain": [
       "array([-1.59364099e-05, -1.00325723e-03,  1.76167567e-04,  7.59857416e-04,\n",
       "        2.26444346e-04, -1.98105146e-04, -6.91738329e-04,  3.60095219e-05,\n",
       "       -1.38420798e-03, -7.80572518e-05, -9.34609736e-04, -5.72831195e-04,\n",
       "       -7.84504402e-04,  1.24225859e-03, -6.61123195e-04, -1.32618903e-03,\n",
       "        4.33237234e-04, -4.23180551e-04, -1.12534373e-03, -3.25649220e-04,\n",
       "        1.11146411e-03,  1.59883033e-03,  1.49207993e-03, -1.43145444e-03,\n",
       "        1.50021887e-03, -9.12959105e-04, -1.09146081e-03,  8.34635284e-04,\n",
       "        2.14894724e-04, -7.75872555e-04,  9.20016842e-04,  1.94030596e-04,\n",
       "        9.62458667e-04, -1.45337603e-04,  5.99248306e-05,  1.60731049e-03,\n",
       "       -9.30978102e-04,  6.64379681e-04, -1.44066871e-03, -6.36127661e-04,\n",
       "        1.55860023e-03,  7.31624721e-04, -1.36226212e-04,  9.65996529e-04,\n",
       "       -6.76926793e-05, -1.66124944e-03,  7.81188603e-04, -1.04021758e-03,\n",
       "        1.45327812e-03,  7.63955759e-04, -1.97798479e-04,  9.61203943e-04,\n",
       "        1.34088262e-03, -1.25401840e-03, -1.44236023e-03,  1.42067543e-03,\n",
       "       -1.27789768e-04, -5.55936072e-04, -2.93759280e-04,  4.47231869e-04,\n",
       "       -7.33762048e-04, -1.52918883e-03, -7.32804416e-04, -9.27264860e-04,\n",
       "        4.71285428e-04, -1.15811126e-03,  9.59578247e-05,  8.70345335e-04,\n",
       "        3.37683450e-05,  1.36033492e-03,  1.26928650e-03,  1.03874377e-03,\n",
       "        5.91628719e-04, -1.39875885e-03, -6.57344004e-04,  4.44179954e-04,\n",
       "       -9.92460991e-04, -1.16741750e-03, -4.56055743e-04, -1.14112708e-03,\n",
       "       -1.21419167e-03,  3.85926134e-04,  3.56869132e-04,  1.05244853e-03,\n",
       "        2.47568005e-06, -5.46982221e-04, -6.94643008e-04, -6.11111056e-04,\n",
       "       -1.43238017e-03, -4.30148539e-05, -4.52637672e-04, -1.54156855e-03,\n",
       "       -8.77604936e-04, -8.73740297e-04, -1.60251395e-03, -1.22183061e-04,\n",
       "        1.08604261e-03, -8.58752348e-04,  5.62308414e-04, -1.40479984e-04,\n",
       "       -1.50014076e-03, -9.24057153e-04,  6.04252622e-04, -5.02648298e-04,\n",
       "       -3.64557491e-04,  1.61641790e-03,  9.53818671e-04, -1.89396800e-04,\n",
       "        1.30757457e-03, -4.81337520e-05, -8.10318685e-04, -8.95284029e-05,\n",
       "        3.19113315e-04,  8.82297056e-04,  1.11551164e-03, -1.52488460e-03,\n",
       "        1.23848440e-03, -9.44171101e-04,  2.84984650e-04, -1.60819944e-03,\n",
       "        1.06349669e-03, -1.50018279e-03, -2.69784796e-04, -2.50314159e-04,\n",
       "       -6.48135465e-05, -8.35166895e-04,  9.78618482e-05, -2.80321663e-04,\n",
       "        1.62894011e-03, -1.21753628e-03,  5.12630737e-04, -2.80624168e-04,\n",
       "        2.73540609e-05,  1.22524088e-03, -1.44133193e-03, -4.93451837e-04,\n",
       "       -6.27196219e-04, -8.26147036e-04,  7.34991452e-04, -1.98360023e-04,\n",
       "        7.55817528e-05,  1.63330149e-03, -1.50797260e-03,  3.31923336e-04,\n",
       "        6.98875636e-04, -6.03655062e-04, -1.47683453e-03, -8.54331534e-04,\n",
       "       -3.48916597e-04, -2.06098382e-04,  8.58184067e-04, -1.61475979e-03,\n",
       "        1.38948206e-03, -1.61168992e-03,  5.88143943e-04,  3.47259280e-04,\n",
       "       -7.07167375e-04,  1.51955101e-04,  4.23041201e-04,  5.44967712e-04,\n",
       "        1.27288385e-03, -6.48570422e-04,  7.83473195e-04, -1.54791703e-03,\n",
       "        6.44512882e-04,  3.11329844e-04,  3.57037818e-04, -1.45444938e-03,\n",
       "        7.45056663e-04, -4.36644303e-04, -9.15343990e-05, -1.26322312e-03,\n",
       "        6.94494986e-04, -3.47589121e-05, -6.78323195e-05,  2.95416294e-06,\n",
       "        6.28278358e-05, -1.07139128e-03,  1.03480741e-03,  7.42309960e-04,\n",
       "       -1.07988366e-03, -6.68659341e-04,  1.24726270e-03, -1.33478350e-03,\n",
       "       -1.58022216e-03, -9.07176640e-04,  1.15934398e-03, -5.74748206e-04,\n",
       "       -3.16142163e-04, -1.04497478e-03, -2.32038336e-04,  9.39854144e-05,\n",
       "        6.07059861e-04,  8.41120142e-04, -1.03738435e-04, -1.18449598e-03,\n",
       "       -7.23781704e-04,  7.80113915e-04, -1.23014135e-04, -1.11732027e-03,\n",
       "        9.86967352e-04, -1.03864004e-03,  1.23692400e-04, -3.62412044e-04,\n",
       "       -6.74686395e-04,  1.63289625e-03,  7.20016949e-04,  1.08624902e-03,\n",
       "        1.20946183e-03,  1.39217719e-03, -8.17761815e-04,  7.35012640e-04,\n",
       "        1.49149157e-03,  1.24711031e-03,  8.78327526e-04, -1.37969491e-03,\n",
       "       -4.25004953e-04, -1.15053914e-03, -1.40992238e-03,  4.69545397e-04,\n",
       "       -1.64429157e-03,  3.91966350e-05,  6.38626399e-04, -1.31633750e-03,\n",
       "       -6.50387257e-04,  1.65751576e-03, -4.72886284e-04, -4.76648303e-04,\n",
       "        6.76880591e-04,  8.15782623e-05, -1.28261832e-04,  6.99103344e-04,\n",
       "        5.93519828e-04, -1.59905187e-03, -3.79208534e-04,  2.32981867e-04,\n",
       "        1.22655008e-03,  1.17571885e-03,  2.01061193e-04,  3.80964950e-04,\n",
       "       -5.40268491e-04,  8.45224422e-04,  1.12831604e-03,  2.81285465e-04,\n",
       "        1.59748760e-03, -1.37916720e-03, -9.72972368e-04,  1.09141273e-03,\n",
       "       -1.28954428e-03, -7.46798178e-04, -1.33532297e-03, -5.48422104e-04,\n",
       "       -1.30177324e-03, -1.47609517e-03,  9.78003641e-07, -1.41809683e-03,\n",
       "        8.76102189e-04, -1.51150656e-04, -5.37996762e-04,  1.16244098e-03,\n",
       "        6.03680732e-04,  6.39547885e-04, -8.73339814e-05, -8.87984294e-04,\n",
       "       -1.27841369e-03, -6.04847854e-04, -3.02087399e-04,  3.93265567e-04,\n",
       "        1.44159934e-03,  3.21710337e-04, -6.31360454e-04,  9.39931197e-04,\n",
       "       -1.36460178e-03,  9.40473226e-04,  3.62813822e-04,  5.83145847e-05,\n",
       "       -9.44771280e-04, -1.53014786e-03,  6.94897142e-04,  5.56087645e-04,\n",
       "       -1.39624579e-03,  1.25992089e-03, -3.66852764e-04, -5.42570953e-04,\n",
       "       -1.78989620e-04, -5.37145301e-04,  1.35184522e-03, -3.07549228e-04,\n",
       "        2.88223004e-04, -4.20178840e-04,  3.47568741e-04,  4.72095970e-04,\n",
       "       -1.58026617e-03, -8.00536771e-04, -4.94840147e-04, -3.88826069e-04,\n",
       "       -9.22188279e-04,  2.53114878e-04,  1.45110337e-03, -2.74811202e-04],\n",
       "      dtype=float32)"
      ]
     },
     "execution_count": 11,
     "metadata": {},
     "output_type": "execute_result"
    }
   ],
   "source": [
    "model.wv.word_vec('look')"
   ]
  },
  {
   "cell_type": "code",
   "execution_count": 17,
   "metadata": {},
   "outputs": [
    {
     "data": {
      "text/plain": [
       "[('sound', 0.18308037519454956),\n",
       " ('friendsnthey', 0.18186749517917633),\n",
       " ('save', 0.18142272531986237),\n",
       " ('else', 0.17627644538879395),\n",
       " ('xanax', 0.17517533898353577),\n",
       " ('yountell', 0.16326946020126343),\n",
       " ('holy', 0.16178609430789948),\n",
       " ('jelly', 0.16161216795444489),\n",
       " ('near', 0.157787024974823),\n",
       " ('talk', 0.15720215439796448)]"
      ]
     },
     "execution_count": 17,
     "metadata": {},
     "output_type": "execute_result"
    }
   ],
   "source": [
    "model.wv.most_similar('brother')"
   ]
  },
  {
   "cell_type": "code",
   "execution_count": 26,
   "metadata": {},
   "outputs": [],
   "source": [
    "def print_songs(results):\n",
    "    lookup = lambda x: df_train[\n",
    "        df_train.SongID==int(x)\n",
    "    ].Song.values[0]\n",
    "    return [\n",
    "        [\n",
    "            i[0].split('|')[0], \n",
    "            lookup(i[0].split('|')[1]), \n",
    "            i[1]\n",
    "        ] for i in results\n",
    "    ]"
   ]
  },
  {
   "cell_type": "code",
   "execution_count": 27,
   "metadata": {},
   "outputs": [
    {
     "data": {
      "text/plain": [
       "[['G-Eazy x Bebe Rexha', 'Me, Myself & I', 0.13875354826450348],\n",
       " ['DLOW', 'Do It Like Me', 0.10179801285266876],\n",
       " ['Eminem Featuring Ed Sheeran', 'River', 0.10104384273290634],\n",
       " ['O.T. Genasis Featuring Young Dolph', 'Cut It', 0.0972680002450943],\n",
       " ['J. Cole', 'Deja Vu', 0.09491831064224243],\n",
       " ['G-Eazy Featuring A$AP Rocky & Cardi B', 'No Limit', 0.08829905092716217],\n",
       " ['Drake', 'Feel No Ways', 0.08621341735124588],\n",
       " ['Drake Featuring The Throne', 'Pop Style', 0.08593448996543884],\n",
       " ['G-Eazy & Halsey', 'Him & I', 0.08452640473842621],\n",
       " ['Drake Featuring 21 Savage', \"Sneakin'\", 0.08221504092216492]]"
      ]
     },
     "execution_count": 27,
     "metadata": {},
     "output_type": "execute_result"
    }
   ],
   "source": [
    "print_songs(\n",
    "    model.docvecs.most_similar([model['rap']], topn=10)\n",
    ")"
   ]
  }
 ],
 "metadata": {
  "kernelspec": {
   "display_name": "Python 3",
   "language": "python",
   "name": "python3"
  },
  "language_info": {
   "codemirror_mode": {
    "name": "ipython",
    "version": 3
   },
   "file_extension": ".py",
   "mimetype": "text/x-python",
   "name": "python",
   "nbconvert_exporter": "python",
   "pygments_lexer": "ipython3",
   "version": "3.6.4"
  }
 },
 "nbformat": 4,
 "nbformat_minor": 2
}
