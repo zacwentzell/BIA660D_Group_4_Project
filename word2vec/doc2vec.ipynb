{
 "cells": [
  {
   "cell_type": "code",
   "execution_count": 1,
   "metadata": {},
   "outputs": [
    {
     "name": "stderr",
     "output_type": "stream",
     "text": [
      "C:\\LearnPython\\lib\\site-packages\\gensim\\utils.py:1197: UserWarning: detected Windows; aliasing chunkize to chunkize_serial\n",
      "  warnings.warn(\"detected Windows; aliasing chunkize to chunkize_serial\")\n"
     ]
    }
   ],
   "source": [
    "import pandas as pd\n",
    "import numpy as np\n",
    "import csv\n",
    "from nltk.stem import WordNetLemmatizer\n",
    "from gensim.models.doc2vec import TaggedDocument"
   ]
  },
  {
   "cell_type": "code",
   "execution_count": 2,
   "metadata": {},
   "outputs": [],
   "source": [
    "wnl = WordNetLemmatizer()\n",
    "\n",
    "class Sentences(object):\n",
    "    \n",
    "    def __init__(self, filename, column):\n",
    "        self.filename = filename\n",
    "        self.column = column\n",
    "        \n",
    "    @staticmethod\n",
    "    def get_tokens(text):\n",
    "        \"\"\"Helper function for tokenizing data\"\"\"\n",
    "        return [wnl.lemmatize(r.lower()) for r in text.split()]\n",
    " \n",
    "    def __iter__(self):\n",
    "        reader = csv.DictReader(open(self.filename, 'r' ))\n",
    "        for row in reader:\n",
    "            words = self.get_tokens(row[self.column])\n",
    "            tags = ['%s|%s' % (row['Artist'], row['SongID'])]\n",
    "            yield TaggedDocument(words=words, tags=tags)"
   ]
  },
  {
   "cell_type": "code",
   "execution_count": 3,
   "metadata": {},
   "outputs": [],
   "source": [
    "filename = 'lyrics_dfclean_rap100.csv'\n",
    "sentences = Sentences(filename=filename, column='Lyrics')\n",
    "\n",
    "# for song lookups\n",
    "df_train = pd.read_csv(filename)"
   ]
  },
  {
   "cell_type": "code",
   "execution_count": 4,
   "metadata": {},
   "outputs": [
    {
     "name": "stderr",
     "output_type": "stream",
     "text": [
      "C:\\LearnPython\\lib\\site-packages\\gensim\\models\\doc2vec.py:362: UserWarning: The parameter `iter` is deprecated, will be removed in 4.0.0, use `epochs` instead.\n",
      "  warnings.warn(\"The parameter `iter` is deprecated, will be removed in 4.0.0, use `epochs` instead.\")\n",
      "C:\\LearnPython\\lib\\site-packages\\gensim\\models\\doc2vec.py:366: UserWarning: The parameter `size` is deprecated, will be removed in 4.0.0, use `vector_size` instead.\n",
      "  warnings.warn(\"The parameter `size` is deprecated, will be removed in 4.0.0, use `vector_size` instead.\")\n"
     ]
    }
   ],
   "source": [
    "\n",
    "from gensim.models.doc2vec import Doc2Vec\n",
    "\n",
    "model = Doc2Vec(\n",
    "    alpha=0.025,\n",
    "    min_alpha=0.025,\n",
    "    workers=15, \n",
    "    min_count=2,\n",
    "    window=10,\n",
    "    size=300,\n",
    "    iter=20,\n",
    "    sample=0.001,\n",
    "    negative=5\n",
    ")"
   ]
  },
  {
   "cell_type": "code",
   "execution_count": 5,
   "metadata": {},
   "outputs": [],
   "source": [
    "model.build_vocab(sentences)"
   ]
  },
  {
   "cell_type": "code",
   "execution_count": 6,
   "metadata": {},
   "outputs": [],
   "source": [
    "model.save('rap-lyrics.doc2vec')\n",
    "\n",
    "model = Doc2Vec.load('rap-lyrics.doc2vec')"
   ]
  },
  {
   "cell_type": "code",
   "execution_count": 7,
   "metadata": {},
   "outputs": [
    {
     "data": {
      "text/plain": [
       "array([ 3.02083616e-04, -4.68715036e-04, -9.93132358e-04, -1.42299151e-03,\n",
       "        9.13617143e-04, -7.04606296e-04,  6.47708075e-04,  6.83385937e-04,\n",
       "       -1.13368803e-03,  1.42135704e-03, -3.34205717e-04,  3.60242964e-04,\n",
       "       -7.07598927e-04,  6.29830232e-04,  8.25769617e-04,  1.20889198e-03,\n",
       "        1.47062074e-03, -1.64852128e-03,  1.10768282e-03,  1.56695547e-03,\n",
       "        1.43725704e-03,  1.24008581e-03,  1.32028142e-03, -1.49414514e-03,\n",
       "        6.84477738e-04, -8.10408150e-04,  1.47308991e-03, -1.28575671e-03,\n",
       "       -9.74034119e-05,  4.93510801e-04, -1.23450672e-03, -1.49352697e-03,\n",
       "        1.90216451e-04, -1.22913145e-04, -1.33403728e-03,  1.10410643e-03,\n",
       "        1.29718450e-03, -7.44064164e-04,  1.60618790e-03, -1.89146100e-04,\n",
       "       -2.78893043e-04, -1.12125615e-03, -2.11936145e-04, -1.22347346e-03,\n",
       "       -5.02556832e-05, -1.65929215e-03,  4.66009107e-04, -1.47322298e-03,\n",
       "        1.07947516e-03,  9.51986527e-04,  1.05475228e-04, -9.28394031e-04,\n",
       "        7.30948814e-04,  1.54856150e-03, -6.95531256e-04,  1.22684857e-03,\n",
       "        1.18578190e-03,  4.20284960e-05, -6.15040772e-04, -4.13877424e-04,\n",
       "       -1.39381434e-03, -1.17433025e-03, -1.44022796e-03, -1.12769927e-03,\n",
       "        1.20383373e-03, -1.34845113e-03, -1.25040580e-03, -1.57426530e-03,\n",
       "       -1.26168947e-04, -4.16952789e-05, -1.58104335e-03, -5.86357666e-04,\n",
       "        7.42073404e-04,  1.08149042e-03,  5.13350358e-04,  8.18627770e-04,\n",
       "       -2.07080928e-04,  1.28984102e-03, -2.16739063e-04,  5.92566154e-04,\n",
       "        1.44900463e-03,  7.92577513e-04,  1.62292924e-03,  1.13556418e-03,\n",
       "        4.32210974e-04, -9.99917975e-04, -6.55104930e-04, -4.16668103e-04,\n",
       "        5.03131712e-04,  1.61652477e-03, -4.16758849e-05,  1.40447833e-03,\n",
       "        1.51194853e-03, -1.21132133e-03, -8.06291646e-04, -2.82489666e-04,\n",
       "        7.12924288e-04, -3.24705674e-04,  1.26857648e-03,  3.69866961e-04,\n",
       "        6.26144232e-04,  4.17033967e-04,  1.11362780e-03,  4.36705537e-04,\n",
       "        4.23086633e-04, -1.64279380e-04, -7.59071729e-04, -1.95766552e-04,\n",
       "        1.26577995e-03, -7.26291968e-04, -4.14867187e-04,  2.72093515e-04,\n",
       "        6.83646867e-05,  5.15914056e-04,  6.91130466e-04,  8.08956218e-04,\n",
       "       -3.07089882e-04, -1.62416394e-03,  1.80378644e-04,  1.48436392e-03,\n",
       "        9.69920249e-04, -1.57871644e-03,  2.39392786e-04,  1.53833872e-03,\n",
       "        2.30428428e-04,  1.61819486e-03, -3.55440978e-04,  6.43327017e-04,\n",
       "        1.64175790e-03,  7.15359638e-04,  1.58329681e-03, -1.25699144e-05,\n",
       "       -1.50103122e-03, -1.64638774e-03,  4.75545501e-04, -7.55863264e-04,\n",
       "       -2.75863073e-04, -1.19615614e-03,  8.10535392e-04, -7.49184866e-04,\n",
       "        1.15780358e-03,  8.60823842e-04,  9.90712782e-04, -1.37359288e-03,\n",
       "        2.78910302e-04,  2.58274231e-05,  1.43559917e-03,  1.40817638e-03,\n",
       "        6.62985840e-05, -5.25151787e-04,  3.12693999e-04,  1.65068521e-03,\n",
       "        1.59426045e-03,  1.21859601e-03, -1.02835195e-03,  1.16290554e-04,\n",
       "       -1.30894501e-03, -1.71443287e-04,  1.04246580e-03, -3.24876688e-04,\n",
       "        8.75251208e-05,  2.08228550e-04,  1.25577103e-03, -1.58522499e-03,\n",
       "        3.75452801e-04,  1.48625893e-03, -9.86815430e-04, -1.61231752e-03,\n",
       "       -5.84570866e-04, -5.27636963e-04, -8.84586625e-05, -3.89951601e-04,\n",
       "       -1.99924049e-04,  1.10632929e-04, -6.40258077e-04, -1.48611492e-03,\n",
       "       -7.67797901e-05, -1.09481195e-03,  1.15124439e-03, -9.33587027e-04,\n",
       "       -1.33320445e-05, -3.10794741e-04, -4.61743097e-04,  3.03254317e-04,\n",
       "        1.61958701e-06, -3.63486644e-04,  1.25766080e-03,  1.14017725e-03,\n",
       "       -1.07531354e-03,  1.43149169e-04,  9.45971871e-04, -1.17975997e-03,\n",
       "        5.41169429e-04, -1.08717929e-03, -1.28987816e-03, -1.21235847e-03,\n",
       "        9.25144181e-04,  7.81841285e-04, -1.22975477e-03,  1.20431860e-03,\n",
       "        4.67997132e-04, -3.61781073e-04, -1.08532875e-03,  7.83650437e-04,\n",
       "        8.65594542e-04, -6.58114324e-04, -3.61840357e-04,  8.31698359e-04,\n",
       "       -7.63172167e-04, -1.14303629e-03,  1.86413192e-04,  3.66247077e-05,\n",
       "       -1.93069602e-04, -7.26610131e-04, -2.62234418e-04,  1.69195016e-04,\n",
       "       -4.20108845e-04,  8.63617053e-04, -1.60163909e-03, -2.81972802e-06,\n",
       "       -1.06112962e-03, -4.59301897e-04, -6.75906311e-04,  7.12591340e-04,\n",
       "        3.57671786e-04,  1.06120162e-04,  9.28905967e-04, -1.00885110e-03,\n",
       "        1.16075203e-03,  1.29404932e-03,  1.49230985e-03, -1.27068092e-03,\n",
       "       -2.13295731e-04, -1.68610990e-04,  1.07290667e-04,  3.50594550e-04,\n",
       "        4.49510204e-04, -1.08369486e-03, -9.67054686e-04, -1.14421957e-04,\n",
       "       -9.24846856e-04,  3.18639359e-05, -1.15050154e-03, -1.38193800e-03,\n",
       "        2.15921341e-06,  1.52698800e-03,  7.10427004e-04, -1.14183256e-03,\n",
       "        4.72444866e-04, -4.29884589e-04, -1.48208218e-03,  4.49797401e-04,\n",
       "       -3.05235269e-04, -1.03475722e-04,  1.28634670e-03, -1.37965253e-03,\n",
       "       -7.08245730e-04, -9.14599397e-04, -1.65416248e-04,  9.03005362e-04,\n",
       "        1.44974981e-03, -7.63315998e-04,  5.83637040e-04, -8.17493012e-04,\n",
       "        1.08445552e-03,  9.28512192e-04, -6.44087850e-04, -1.51197612e-03,\n",
       "        8.12418701e-04,  3.68798246e-05,  4.22682759e-04,  1.48182490e-03,\n",
       "       -6.84424886e-04,  1.30039407e-03,  1.33783568e-03,  1.91959494e-04,\n",
       "        1.21829403e-03, -1.36233075e-03,  1.49516610e-03,  3.86228930e-04,\n",
       "       -5.31412079e-04, -1.08981039e-03,  1.29971909e-03,  1.16293412e-03,\n",
       "       -1.43617648e-03,  7.02376827e-04,  8.88242095e-04,  9.59921221e-04,\n",
       "        8.14290077e-04, -9.49245936e-04,  1.32174615e-03,  9.64656065e-05,\n",
       "        1.38898799e-03, -4.93979780e-04, -1.21417886e-03, -1.32004521e-03,\n",
       "        8.05652468e-04, -1.12240028e-03, -6.58569043e-04,  9.10577481e-04],\n",
       "      dtype=float32)"
      ]
     },
     "execution_count": 7,
     "metadata": {},
     "output_type": "execute_result"
    }
   ],
   "source": [
    "model.wv.word_vec('rap')"
   ]
  },
  {
   "cell_type": "code",
   "execution_count": 8,
   "metadata": {},
   "outputs": [
    {
     "data": {
      "text/plain": [
       "[('loud', 0.20162919163703918),\n",
       " ('living', 0.18209415674209595),\n",
       " ('stackin', 0.1763698011636734),\n",
       " ('orange', 0.16115154325962067),\n",
       " ('so', 0.15814511477947235),\n",
       " ('backnwake', 0.15596804022789001),\n",
       " ('forgot', 0.15453220903873444),\n",
       " ('ask', 0.1531437486410141),\n",
       " ('yet', 0.1510993391275406),\n",
       " ('givenyoull', 0.14993122220039368)]"
      ]
     },
     "execution_count": 8,
     "metadata": {},
     "output_type": "execute_result"
    }
   ],
   "source": [
    "model.wv.most_similar('you')"
   ]
  },
  {
   "cell_type": "code",
   "execution_count": 9,
   "metadata": {},
   "outputs": [],
   "source": [
    "def print_titles(results):\n",
    "    lookup = lambda x: df_train[\n",
    "        df_train.song_id==int(x)\n",
    "    ].song.values[0]\n",
    "    return [\n",
    "        [\n",
    "            i[0].split('|')[0], \n",
    "            lookup(i[0].split('|')[1]), \n",
    "            i[1]\n",
    "        ] for i in results\n",
    "    ]"
   ]
  },
  {
   "cell_type": "code",
   "execution_count": 10,
   "metadata": {},
   "outputs": [
    {
     "ename": "KeyError",
     "evalue": "\"tag '??????' not seen in training corpus/invalid\"",
     "output_type": "error",
     "traceback": [
      "\u001b[1;31m---------------------------------------------------------------------------\u001b[0m",
      "\u001b[1;31mKeyError\u001b[0m                                  Traceback (most recent call last)",
      "\u001b[1;32m<ipython-input-10-6f49097454da>\u001b[0m in \u001b[0;36m<module>\u001b[1;34m()\u001b[0m\n\u001b[0;32m      1\u001b[0m print_titles(\n\u001b[1;32m----> 2\u001b[1;33m     \u001b[0mmodel\u001b[0m\u001b[1;33m.\u001b[0m\u001b[0mdocvecs\u001b[0m\u001b[1;33m.\u001b[0m\u001b[0mmost_similar\u001b[0m\u001b[1;33m(\u001b[0m\u001b[1;33m[\u001b[0m\u001b[0mmodel\u001b[0m\u001b[1;33m[\u001b[0m\u001b[1;34m'??????'\u001b[0m\u001b[1;33m]\u001b[0m\u001b[1;33m]\u001b[0m\u001b[1;33m,\u001b[0m \u001b[0mtopn\u001b[0m\u001b[1;33m=\u001b[0m\u001b[1;36m10\u001b[0m\u001b[1;33m)\u001b[0m\u001b[1;33m\u001b[0m\u001b[0m\n\u001b[0m\u001b[0;32m      3\u001b[0m )\n",
      "\u001b[1;32mC:\\LearnPython\\lib\\site-packages\\gensim\\models\\doc2vec.py\u001b[0m in \u001b[0;36m__getitem__\u001b[1;34m(self, tag)\u001b[0m\n\u001b[0;32m    570\u001b[0m         \u001b[1;32mif\u001b[0m \u001b[0misinstance\u001b[0m\u001b[1;33m(\u001b[0m\u001b[0mtag\u001b[0m\u001b[1;33m,\u001b[0m \u001b[0mstring_types\u001b[0m \u001b[1;33m+\u001b[0m \u001b[0minteger_types\u001b[0m \u001b[1;33m+\u001b[0m \u001b[1;33m(\u001b[0m\u001b[0minteger\u001b[0m\u001b[1;33m,\u001b[0m\u001b[1;33m)\u001b[0m\u001b[1;33m)\u001b[0m\u001b[1;33m:\u001b[0m\u001b[1;33m\u001b[0m\u001b[0m\n\u001b[0;32m    571\u001b[0m             \u001b[1;32mif\u001b[0m \u001b[0mtag\u001b[0m \u001b[1;32mnot\u001b[0m \u001b[1;32min\u001b[0m \u001b[0mself\u001b[0m\u001b[1;33m.\u001b[0m\u001b[0mwv\u001b[0m\u001b[1;33m.\u001b[0m\u001b[0mvocab\u001b[0m\u001b[1;33m:\u001b[0m\u001b[1;33m\u001b[0m\u001b[0m\n\u001b[1;32m--> 572\u001b[1;33m                 \u001b[1;32mreturn\u001b[0m \u001b[0mself\u001b[0m\u001b[1;33m.\u001b[0m\u001b[0mdocvecs\u001b[0m\u001b[1;33m[\u001b[0m\u001b[0mtag\u001b[0m\u001b[1;33m]\u001b[0m\u001b[1;33m\u001b[0m\u001b[0m\n\u001b[0m\u001b[0;32m    573\u001b[0m             \u001b[1;32mreturn\u001b[0m \u001b[0mself\u001b[0m\u001b[1;33m.\u001b[0m\u001b[0mwv\u001b[0m\u001b[1;33m[\u001b[0m\u001b[0mtag\u001b[0m\u001b[1;33m]\u001b[0m\u001b[1;33m\u001b[0m\u001b[0m\n\u001b[0;32m    574\u001b[0m         \u001b[1;32mreturn\u001b[0m \u001b[0mvstack\u001b[0m\u001b[1;33m(\u001b[0m\u001b[1;33m[\u001b[0m\u001b[0mself\u001b[0m\u001b[1;33m[\u001b[0m\u001b[0mi\u001b[0m\u001b[1;33m]\u001b[0m \u001b[1;32mfor\u001b[0m \u001b[0mi\u001b[0m \u001b[1;32min\u001b[0m \u001b[0mtag\u001b[0m\u001b[1;33m]\u001b[0m\u001b[1;33m)\u001b[0m\u001b[1;33m\u001b[0m\u001b[0m\n",
      "\u001b[1;32mC:\\LearnPython\\lib\\site-packages\\gensim\\models\\keyedvectors.py\u001b[0m in \u001b[0;36m__getitem__\u001b[1;34m(self, index)\u001b[0m\n\u001b[0;32m   1197\u001b[0m                 \u001b[1;32mreturn\u001b[0m \u001b[0mself\u001b[0m\u001b[1;33m.\u001b[0m\u001b[0mvectors_docs\u001b[0m\u001b[1;33m[\u001b[0m\u001b[0mself\u001b[0m\u001b[1;33m.\u001b[0m\u001b[0m_int_index\u001b[0m\u001b[1;33m(\u001b[0m\u001b[0mindex\u001b[0m\u001b[1;33m,\u001b[0m \u001b[0mself\u001b[0m\u001b[1;33m.\u001b[0m\u001b[0mdoctags\u001b[0m\u001b[1;33m,\u001b[0m \u001b[0mself\u001b[0m\u001b[1;33m.\u001b[0m\u001b[0mmax_rawint\u001b[0m\u001b[1;33m)\u001b[0m\u001b[1;33m]\u001b[0m\u001b[1;33m\u001b[0m\u001b[0m\n\u001b[0;32m   1198\u001b[0m             \u001b[1;32mreturn\u001b[0m \u001b[0mvstack\u001b[0m\u001b[1;33m(\u001b[0m\u001b[1;33m[\u001b[0m\u001b[0mself\u001b[0m\u001b[1;33m[\u001b[0m\u001b[0mi\u001b[0m\u001b[1;33m]\u001b[0m \u001b[1;32mfor\u001b[0m \u001b[0mi\u001b[0m \u001b[1;32min\u001b[0m \u001b[0mindex\u001b[0m\u001b[1;33m]\u001b[0m\u001b[1;33m)\u001b[0m\u001b[1;33m\u001b[0m\u001b[0m\n\u001b[1;32m-> 1199\u001b[1;33m         \u001b[1;32mraise\u001b[0m \u001b[0mKeyError\u001b[0m\u001b[1;33m(\u001b[0m\u001b[1;34m\"tag '%s' not seen in training corpus/invalid\"\u001b[0m \u001b[1;33m%\u001b[0m \u001b[0mindex\u001b[0m\u001b[1;33m)\u001b[0m\u001b[1;33m\u001b[0m\u001b[0m\n\u001b[0m\u001b[0;32m   1200\u001b[0m \u001b[1;33m\u001b[0m\u001b[0m\n\u001b[0;32m   1201\u001b[0m     \u001b[1;32mdef\u001b[0m \u001b[0m__contains__\u001b[0m\u001b[1;33m(\u001b[0m\u001b[0mself\u001b[0m\u001b[1;33m,\u001b[0m \u001b[0mindex\u001b[0m\u001b[1;33m)\u001b[0m\u001b[1;33m:\u001b[0m\u001b[1;33m\u001b[0m\u001b[0m\n",
      "\u001b[1;31mKeyError\u001b[0m: \"tag '??????' not seen in training corpus/invalid\""
     ]
    }
   ],
   "source": [
    "print_titles(\n",
    "    model.docvecs.most_similar([model['??????']], topn=10)\n",
    ")"
   ]
  }
 ],
 "metadata": {
  "kernelspec": {
   "display_name": "Python 3",
   "language": "python",
   "name": "python3"
  },
  "language_info": {
   "codemirror_mode": {
    "name": "ipython",
    "version": 3
   },
   "file_extension": ".py",
   "mimetype": "text/x-python",
   "name": "python",
   "nbconvert_exporter": "python",
   "pygments_lexer": "ipython3",
   "version": "3.6.4"
  }
 },
 "nbformat": 4,
 "nbformat_minor": 2
}
